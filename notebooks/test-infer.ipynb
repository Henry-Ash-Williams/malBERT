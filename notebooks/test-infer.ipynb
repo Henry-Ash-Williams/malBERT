{
 "cells": [
  {
   "cell_type": "code",
   "execution_count": null,
   "id": "25b548b6",
   "metadata": {},
   "outputs": [],
   "source": [
    "import torch\n",
    "import r2pipe\n",
    "import numpy as np\n",
    "from tqdm import tqdm\n",
    "from transformers import PreTrainedTokenizerFast\n",
    "from transformers import RobertaForSequenceClassification\n",
    "from sklearn.metrics import accuracy_score, precision_score, recall_score, f1_score\n",
    "\n",
    "import os \n",
    "import warnings\n",
    "from os import PathLike\n",
    "\n",
    "\n",
    "warnings.filterwarnings(\"ignore\")\n",
    "\n",
    "SAMPLE_PATH = \"/Volumes/New Volume/malware-detection-dataset/malware-source-code/DanielStott-CryptoLite/x64/Debug/CryptoLite.exe\"\n",
    "\n",
    "tokenizer = PreTrainedTokenizerFast.from_pretrained('../MalBERTa')\n",
    "model = RobertaForSequenceClassification.from_pretrained('../MalBERTA-pretrained-classifier')"
   ]
  },
  {
   "cell_type": "code",
   "execution_count": null,
   "id": "ac1b42c2",
   "metadata": {},
   "outputs": [],
   "source": [
    "def get_disassembly(path: PathLike):\n",
    "    if not os.path.exists(path):\n",
    "        raise Exception(f\"Could not find specified file at {path}\")\n",
    "\n",
    "    r2 = r2pipe.open(path)\n",
    "    r2.cmd(\"aaa\")\n",
    "\n",
    "    info = r2.cmdj(\"ij\")\n",
    "\n",
    "    if info[\"bin\"][\"arch\"] != \"x86\":\n",
    "        return []\n",
    "\n",
    "    section_info = r2.cmdj(\"iSj\")\n",
    "    executable_sections = [\n",
    "        section for section in section_info if \"x\" in section.get(\"perm\", \"\")\n",
    "    ]\n",
    "\n",
    "    full_disassembly = []\n",
    "\n",
    "    for section in executable_sections:\n",
    "        start = section[\"vaddr\"]\n",
    "        size = section[\"vsize\"]\n",
    "\n",
    "        disassembly = r2.cmdj(f\"pdaj {size} @ {start}\")\n",
    "\n",
    "        valid = [instr for instr in disassembly if set(instr[\"bytes\"]) != {\"0\"}]\n",
    "        full_disassembly.extend(valid)\n",
    "\n",
    "    return full_disassembly\n",
    "\n",
    "disassembly = get_disassembly(SAMPLE_PATH)\n",
    "opcodes = [instr['inst'].split(' ')[0] for instr in disassembly]\n",
    "opcodes = list(filter(lambda x: x != \"invalid\", opcodes))\n",
    "opcodes = ' '.join(opcodes)\n"
   ]
  },
  {
   "cell_type": "code",
   "execution_count": null,
   "id": "6f07074c",
   "metadata": {},
   "outputs": [],
   "source": [
    "input = tokenizer(\n",
    "    opcodes, \n",
    "    padding='max_length',\n",
    "    max_length=32,\n",
    "    return_overflowing_tokens=True,\n",
    "    truncation=True,\n",
    "    return_special_tokens_mask=True,\n",
    ")\n",
    "\n",
    "labels = model(torch.tensor(input['input_ids']), torch.tensor(input['attention_mask']))"
   ]
  },
  {
   "cell_type": "code",
   "execution_count": null,
   "id": "54deb5d5",
   "metadata": {},
   "outputs": [],
   "source": [
    "labels.logits.argmax(dim=-1).mean(dtype=torch.float).round()"
   ]
  }
 ],
 "metadata": {
  "kernelspec": {
   "display_name": ".venv",
   "language": "python",
   "name": "python3"
  },
  "language_info": {
   "codemirror_mode": {
    "name": "ipython",
    "version": 3
   },
   "file_extension": ".py",
   "mimetype": "text/x-python",
   "name": "python",
   "nbconvert_exporter": "python",
   "pygments_lexer": "ipython3",
   "version": "3.10.17"
  }
 },
 "nbformat": 4,
 "nbformat_minor": 5
}
