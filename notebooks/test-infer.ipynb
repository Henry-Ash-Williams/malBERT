{
 "cells": [
  {
   "cell_type": "code",
   "execution_count": 2,
   "id": "25b548b6",
   "metadata": {},
   "outputs": [
    {
     "name": "stderr",
     "output_type": "stream",
     "text": [
      "\u001b[34m\u001b[1mwandb\u001b[0m: Using wandb-core as the SDK backend.  Please refer to https://wandb.me/wandb-core for more information.\n",
      "\u001b[34m\u001b[1mwandb\u001b[0m: Downloading large artifact model-e1tosi4k:v1, 87.83MB. 7 files... \n",
      "\u001b[34m\u001b[1mwandb\u001b[0m:   7 of 7 files downloaded.  \n",
      "Done. 0:0:0.8\n"
     ]
    }
   ],
   "source": [
    "import torch\n",
    "import wandb\n",
    "import datasets \n",
    "import numpy as np\n",
    "from tqdm import tqdm\n",
    "import torch.nn as nn \n",
    "import torch.nn.functional as F\n",
    "import matplotlib.pyplot as plt \n",
    "from torch.utils.data.dataset import Dataset\n",
    "from transformers import PreTrainedTokenizerFast\n",
    "from transformers import RobertaForSequenceClassification\n",
    "from sklearn.metrics import classification_report, roc_curve\n",
    "from sklearn.metrics import accuracy_score, precision_score, recall_score, f1_score\n",
    "\n",
    "import os \n",
    "import warnings\n",
    "from os import PathLike\n",
    "\n",
    "api = wandb.Api()\n",
    "artifact = api.artifact('henry-williams/opcode-malberta/model-e1tosi4k:v1', type='model')\n",
    "artifact_dir = artifact.download()\n",
    "\n",
    "warnings.filterwarnings(\"ignore\")\n",
    "\n",
    "device = torch.device('mps')\n",
    "dataset = datasets.load_from_disk('../data/raw')\n",
    "tokenizer = PreTrainedTokenizerFast.from_pretrained(\"../MalBERTa\")\n",
    "model = RobertaForSequenceClassification.from_pretrained(artifact_dir).to(device)\n",
    "\n",
    "BATCH_SIZE = 256"
   ]
  },
  {
   "cell_type": "code",
   "execution_count": null,
   "id": "2e3fa925",
   "metadata": {},
   "outputs": [],
   "source": [
    "def make_preds(sample):\n",
    "    input = tokenizer(\n",
    "        sample,\n",
    "        padding='max_length',\n",
    "        max_length=32,\n",
    "        return_overflowing_tokens=True,\n",
    "        truncation=True,\n",
    "        return_special_tokens_mask=True,\n",
    "    )\n",
    "    input_ids = torch.tensor(input['input_ids'])\n",
    "    attention_mask = torch.tensor(input['attention_mask'])\n",
    "    full_logits = []\n",
    "\n",
    "    for ids, mask in zip(input_ids.split(BATCH_SIZE), attention_mask.split(BATCH_SIZE)):\n",
    "        torch.mps.empty_cache()\n",
    "        with torch.no_grad():\n",
    "            logits = model(ids.to(device), mask.to(device)).logits\n",
    "        full_logits.append(logits)\n",
    "\n",
    "    logits = torch.vstack(full_logits)\n",
    "    return logits\n",
    "\n",
    "def make_ds():\n",
    "    model.eval()\n",
    "\n",
    "    predictions = []\n",
    "    actuals = []\n",
    "\n",
    "    for i, sample in enumerate(tqdm(dataset['test'], position=0)):\n",
    "        logits = make_preds(sample['text']).unsqueeze(0)\n",
    "        \n",
    "        predictions.append(logits)\n",
    "        actuals.append(sample['label'])\n",
    "    return predictions, actuals "
   ]
  },
  {
   "cell_type": "code",
   "execution_count": null,
   "id": "66275794",
   "metadata": {},
   "outputs": [],
   "source": [
    "class PredictionsDataset(Dataset):\n",
    "    def __init__(self, preds, labels):\n",
    "        if len(preds) != len(labels):\n",
    "            raise ValueError(\"Mismatch in size between x and y\")\n",
    "\n",
    "        self.preds = preds \n",
    "        self.labels = labels \n",
    "    \n",
    "    def __len__(self):\n",
    "        return len(self.preds)\n",
    "\n",
    "    def __getitem__(self, index):\n",
    "        return self.preds[index], self.labels[index]\n",
    "\n",
    "if not os.path.exists('logits-ds.pt'):\n",
    "    predictions, actuals = make_ds()\n",
    "    d = PredictionsDataset(predictions, actuals)\n",
    "    torch.save(d, 'logits-ds.pt')\n",
    "else: \n",
    "    d = torch.load('logits-ds.pt', weights_only=False)\n"
   ]
  },
  {
   "cell_type": "markdown",
   "id": "a43bc30f",
   "metadata": {},
   "source": [
    "# LSTM Based "
   ]
  },
  {
   "cell_type": "code",
   "execution_count": null,
   "id": "b1f8de20",
   "metadata": {},
   "outputs": [],
   "source": [
    "class Reducer(nn.Module):\n",
    "    def __init__(self, input_size, hidden_size, num_layers):\n",
    "        super(Reducer, self).__init__()\n",
    "        \n",
    "        self.input_size = input_size\n",
    "        self.hidden_size = hidden_size \n",
    "        self.num_layers = num_layers\n",
    "        \n",
    "        self.lstm = nn.LSTM(self.input_size, self.hidden_size, self.num_layers, batch_first=True)\n",
    "        self.fc = nn.Linear(self.hidden_size, 2)\n",
    "\n",
    "    def forward(self, x):\n",
    "        h0 = torch.zeros(self.num_layers, x.size(0), self.hidden_size, device=x.device)\n",
    "        c0 = torch.zeros(self.num_layers, x.size(0), self.hidden_size, device=x.device)\n",
    "        out, _ = self.lstm(x, (h0, c0))\n",
    "        z = self.fc(out[:, -1, :])\n",
    "        return z"
   ]
  },
  {
   "cell_type": "code",
   "execution_count": null,
   "id": "2ecf8839",
   "metadata": {},
   "outputs": [],
   "source": [
    "r = Reducer(2, 32, 3)\n",
    "r = r.to(device)\n",
    "\n",
    "criterion = nn.BCEWithLogitsLoss()\n",
    "optimizer = torch.optim.AdamW(r.parameters())\n",
    "\n",
    "loss_history = []\n",
    "\n",
    "for logits, label in tqdm(d):\n",
    "    torch.mps.empty_cache()\n",
    "    actual = F.one_hot(torch.tensor(torch.tensor(label)), 2).unsqueeze(0).to(torch.float32).to(device)\n",
    "    \n",
    "    optimizer.zero_grad()\n",
    "    predicted = r(logits)\n",
    "    loss = criterion(predicted, actual)\n",
    "    loss_history.append(loss)\n",
    "    loss.backward() \n",
    "    \n",
    "    optimizer.step()"
   ]
  },
  {
   "cell_type": "code",
   "execution_count": null,
   "id": "8819ea64",
   "metadata": {},
   "outputs": [],
   "source": [
    "plt.plot(torch.tensor(loss_history))"
   ]
  },
  {
   "cell_type": "markdown",
   "id": "956b05e8",
   "metadata": {},
   "source": [
    "# Mean Logits"
   ]
  },
  {
   "cell_type": "code",
   "execution_count": null,
   "id": "25d26a3e",
   "metadata": {},
   "outputs": [
    {
     "name": "stderr",
     "output_type": "stream",
     "text": [
      "                                                     \r"
     ]
    },
    {
     "data": {
      "text/html": [
       "<pre style=\"white-space:pre;overflow-x:auto;line-height:normal;font-family:Menlo,'DejaVu Sans Mono',consolas,'Courier New',monospace\">              precision    recall  f1-score   support\n",
       "\n",
       "           <span style=\"color: #008080; text-decoration-color: #008080; font-weight: bold\">0</span>       <span style=\"color: #008080; text-decoration-color: #008080; font-weight: bold\">0.99</span>      <span style=\"color: #008080; text-decoration-color: #008080; font-weight: bold\">0.90</span>      <span style=\"color: #008080; text-decoration-color: #008080; font-weight: bold\">0.94</span>       <span style=\"color: #008080; text-decoration-color: #008080; font-weight: bold\">704</span>\n",
       "           <span style=\"color: #008080; text-decoration-color: #008080; font-weight: bold\">1</span>       <span style=\"color: #008080; text-decoration-color: #008080; font-weight: bold\">0.91</span>      <span style=\"color: #008080; text-decoration-color: #008080; font-weight: bold\">0.99</span>      <span style=\"color: #008080; text-decoration-color: #008080; font-weight: bold\">0.95</span>       <span style=\"color: #008080; text-decoration-color: #008080; font-weight: bold\">684</span>\n",
       "\n",
       "    accuracy                           <span style=\"color: #008080; text-decoration-color: #008080; font-weight: bold\">0.95</span>      <span style=\"color: #008080; text-decoration-color: #008080; font-weight: bold\">1388</span>\n",
       "   macro avg       <span style=\"color: #008080; text-decoration-color: #008080; font-weight: bold\">0.95</span>      <span style=\"color: #008080; text-decoration-color: #008080; font-weight: bold\">0.95</span>      <span style=\"color: #008080; text-decoration-color: #008080; font-weight: bold\">0.95</span>      <span style=\"color: #008080; text-decoration-color: #008080; font-weight: bold\">1388</span>\n",
       "weighted avg       <span style=\"color: #008080; text-decoration-color: #008080; font-weight: bold\">0.95</span>      <span style=\"color: #008080; text-decoration-color: #008080; font-weight: bold\">0.95</span>      <span style=\"color: #008080; text-decoration-color: #008080; font-weight: bold\">0.95</span>      <span style=\"color: #008080; text-decoration-color: #008080; font-weight: bold\">1388</span>\n",
       "\n",
       "</pre>\n"
      ],
      "text/plain": [
       "              precision    recall  f1-score   support\n",
       "\n",
       "           \u001b[1;36m0\u001b[0m       \u001b[1;36m0.99\u001b[0m      \u001b[1;36m0.90\u001b[0m      \u001b[1;36m0.94\u001b[0m       \u001b[1;36m704\u001b[0m\n",
       "           \u001b[1;36m1\u001b[0m       \u001b[1;36m0.91\u001b[0m      \u001b[1;36m0.99\u001b[0m      \u001b[1;36m0.95\u001b[0m       \u001b[1;36m684\u001b[0m\n",
       "\n",
       "    accuracy                           \u001b[1;36m0.95\u001b[0m      \u001b[1;36m1388\u001b[0m\n",
       "   macro avg       \u001b[1;36m0.95\u001b[0m      \u001b[1;36m0.95\u001b[0m      \u001b[1;36m0.95\u001b[0m      \u001b[1;36m1388\u001b[0m\n",
       "weighted avg       \u001b[1;36m0.95\u001b[0m      \u001b[1;36m0.95\u001b[0m      \u001b[1;36m0.95\u001b[0m      \u001b[1;36m1388\u001b[0m\n",
       "\n"
      ]
     },
     "metadata": {},
     "output_type": "display_data"
    }
   ],
   "source": [
    "def reduce(preds): \n",
    "    return preds.mean(dim=1).argmax(dim=1)\n",
    "\n",
    "predicted, actual = [], []\n",
    "\n",
    "for preds, label in tqdm(d, leave=False): \n",
    "    predicted.append(reduce(preds))    \n",
    "    actual.append(label)    \n",
    "\n",
    "print(classification_report(actual, torch.tensor(predicted).cpu()))"
   ]
  },
  {
   "cell_type": "code",
   "execution_count": null,
   "id": "3f4df1d0",
   "metadata": {},
   "outputs": [
    {
     "name": "stderr",
     "output_type": "stream",
     "text": [
      "                                                    \r"
     ]
    },
    {
     "data": {
      "text/html": [
       "<pre style=\"white-space:pre;overflow-x:auto;line-height:normal;font-family:Menlo,'DejaVu Sans Mono',consolas,'Courier New',monospace\">              precision    recall  f1-score   support\n",
       "\n",
       "           <span style=\"color: #008080; text-decoration-color: #008080; font-weight: bold\">0</span>       <span style=\"color: #008080; text-decoration-color: #008080; font-weight: bold\">0.99</span>      <span style=\"color: #008080; text-decoration-color: #008080; font-weight: bold\">0.90</span>      <span style=\"color: #008080; text-decoration-color: #008080; font-weight: bold\">0.94</span>       <span style=\"color: #008080; text-decoration-color: #008080; font-weight: bold\">704</span>\n",
       "           <span style=\"color: #008080; text-decoration-color: #008080; font-weight: bold\">1</span>       <span style=\"color: #008080; text-decoration-color: #008080; font-weight: bold\">0.91</span>      <span style=\"color: #008080; text-decoration-color: #008080; font-weight: bold\">0.99</span>      <span style=\"color: #008080; text-decoration-color: #008080; font-weight: bold\">0.95</span>       <span style=\"color: #008080; text-decoration-color: #008080; font-weight: bold\">684</span>\n",
       "\n",
       "    accuracy                           <span style=\"color: #008080; text-decoration-color: #008080; font-weight: bold\">0.94</span>      <span style=\"color: #008080; text-decoration-color: #008080; font-weight: bold\">1388</span>\n",
       "   macro avg       <span style=\"color: #008080; text-decoration-color: #008080; font-weight: bold\">0.95</span>      <span style=\"color: #008080; text-decoration-color: #008080; font-weight: bold\">0.94</span>      <span style=\"color: #008080; text-decoration-color: #008080; font-weight: bold\">0.94</span>      <span style=\"color: #008080; text-decoration-color: #008080; font-weight: bold\">1388</span>\n",
       "weighted avg       <span style=\"color: #008080; text-decoration-color: #008080; font-weight: bold\">0.95</span>      <span style=\"color: #008080; text-decoration-color: #008080; font-weight: bold\">0.94</span>      <span style=\"color: #008080; text-decoration-color: #008080; font-weight: bold\">0.94</span>      <span style=\"color: #008080; text-decoration-color: #008080; font-weight: bold\">1388</span>\n",
       "\n",
       "</pre>\n"
      ],
      "text/plain": [
       "              precision    recall  f1-score   support\n",
       "\n",
       "           \u001b[1;36m0\u001b[0m       \u001b[1;36m0.99\u001b[0m      \u001b[1;36m0.90\u001b[0m      \u001b[1;36m0.94\u001b[0m       \u001b[1;36m704\u001b[0m\n",
       "           \u001b[1;36m1\u001b[0m       \u001b[1;36m0.91\u001b[0m      \u001b[1;36m0.99\u001b[0m      \u001b[1;36m0.95\u001b[0m       \u001b[1;36m684\u001b[0m\n",
       "\n",
       "    accuracy                           \u001b[1;36m0.94\u001b[0m      \u001b[1;36m1388\u001b[0m\n",
       "   macro avg       \u001b[1;36m0.95\u001b[0m      \u001b[1;36m0.94\u001b[0m      \u001b[1;36m0.94\u001b[0m      \u001b[1;36m1388\u001b[0m\n",
       "weighted avg       \u001b[1;36m0.95\u001b[0m      \u001b[1;36m0.94\u001b[0m      \u001b[1;36m0.94\u001b[0m      \u001b[1;36m1388\u001b[0m\n",
       "\n"
      ]
     },
     "metadata": {},
     "output_type": "display_data"
    }
   ],
   "source": [
    "def reduce(preds): \n",
    "    return F.softmax(preds, dim=2).mean(dim=1).argmax()\n",
    "\n",
    "predicted, actual = [], []\n",
    "\n",
    "for preds, label in tqdm(d, leave=False): \n",
    "    predicted.append(reduce(preds))    \n",
    "    actual.append(label)    \n",
    "\n",
    "print(classification_report(actual, torch.tensor(predicted).cpu()))"
   ]
  },
  {
   "cell_type": "markdown",
   "id": "f00bd532",
   "metadata": {},
   "source": [
    "# Majority Voting"
   ]
  },
  {
   "cell_type": "code",
   "execution_count": null,
   "id": "73c909ba",
   "metadata": {},
   "outputs": [
    {
     "name": "stderr",
     "output_type": "stream",
     "text": [
      "                                                    \r"
     ]
    },
    {
     "data": {
      "text/html": [
       "<pre style=\"white-space:pre;overflow-x:auto;line-height:normal;font-family:Menlo,'DejaVu Sans Mono',consolas,'Courier New',monospace\">              precision    recall  f1-score   support\n",
       "\n",
       "           <span style=\"color: #008080; text-decoration-color: #008080; font-weight: bold\">0</span>       <span style=\"color: #008080; text-decoration-color: #008080; font-weight: bold\">0.99</span>      <span style=\"color: #008080; text-decoration-color: #008080; font-weight: bold\">0.88</span>      <span style=\"color: #008080; text-decoration-color: #008080; font-weight: bold\">0.93</span>       <span style=\"color: #008080; text-decoration-color: #008080; font-weight: bold\">704</span>\n",
       "           <span style=\"color: #008080; text-decoration-color: #008080; font-weight: bold\">1</span>       <span style=\"color: #008080; text-decoration-color: #008080; font-weight: bold\">0.89</span>      <span style=\"color: #008080; text-decoration-color: #008080; font-weight: bold\">0.99</span>      <span style=\"color: #008080; text-decoration-color: #008080; font-weight: bold\">0.94</span>       <span style=\"color: #008080; text-decoration-color: #008080; font-weight: bold\">684</span>\n",
       "\n",
       "    accuracy                           <span style=\"color: #008080; text-decoration-color: #008080; font-weight: bold\">0.94</span>      <span style=\"color: #008080; text-decoration-color: #008080; font-weight: bold\">1388</span>\n",
       "   macro avg       <span style=\"color: #008080; text-decoration-color: #008080; font-weight: bold\">0.94</span>      <span style=\"color: #008080; text-decoration-color: #008080; font-weight: bold\">0.94</span>      <span style=\"color: #008080; text-decoration-color: #008080; font-weight: bold\">0.94</span>      <span style=\"color: #008080; text-decoration-color: #008080; font-weight: bold\">1388</span>\n",
       "weighted avg       <span style=\"color: #008080; text-decoration-color: #008080; font-weight: bold\">0.94</span>      <span style=\"color: #008080; text-decoration-color: #008080; font-weight: bold\">0.94</span>      <span style=\"color: #008080; text-decoration-color: #008080; font-weight: bold\">0.94</span>      <span style=\"color: #008080; text-decoration-color: #008080; font-weight: bold\">1388</span>\n",
       "\n",
       "</pre>\n"
      ],
      "text/plain": [
       "              precision    recall  f1-score   support\n",
       "\n",
       "           \u001b[1;36m0\u001b[0m       \u001b[1;36m0.99\u001b[0m      \u001b[1;36m0.88\u001b[0m      \u001b[1;36m0.93\u001b[0m       \u001b[1;36m704\u001b[0m\n",
       "           \u001b[1;36m1\u001b[0m       \u001b[1;36m0.89\u001b[0m      \u001b[1;36m0.99\u001b[0m      \u001b[1;36m0.94\u001b[0m       \u001b[1;36m684\u001b[0m\n",
       "\n",
       "    accuracy                           \u001b[1;36m0.94\u001b[0m      \u001b[1;36m1388\u001b[0m\n",
       "   macro avg       \u001b[1;36m0.94\u001b[0m      \u001b[1;36m0.94\u001b[0m      \u001b[1;36m0.94\u001b[0m      \u001b[1;36m1388\u001b[0m\n",
       "weighted avg       \u001b[1;36m0.94\u001b[0m      \u001b[1;36m0.94\u001b[0m      \u001b[1;36m0.94\u001b[0m      \u001b[1;36m1388\u001b[0m\n",
       "\n"
      ]
     },
     "metadata": {},
     "output_type": "display_data"
    }
   ],
   "source": [
    "def get_class_votes(preds):\n",
    "    votes = preds.argmax(dim=-1)\n",
    "\n",
    "    mal_votes = torch.count_nonzero(votes)\n",
    "    ben_votes = votes.numel() - mal_votes\n",
    "\n",
    "    return ben_votes, mal_votes\n",
    "\n",
    "def get_class(preds):\n",
    "    ben_votes, mal_votes = get_class_votes(preds)    \n",
    "\n",
    "    return 0 if ben_votes > mal_votes else 1\n",
    "\n",
    "predicted, actual = [], []\n",
    "\n",
    "for preds, label in tqdm(d, leave=False): \n",
    "    predicted.append(get_class(preds))    \n",
    "    actual.append(label)    \n",
    "\n",
    "print(classification_report(actual, predicted))"
   ]
  },
  {
   "cell_type": "markdown",
   "id": "b5160147",
   "metadata": {},
   "source": [
    "# KL-Divergence Certainty Based"
   ]
  },
  {
   "cell_type": "code",
   "execution_count": null,
   "id": "9969ae3a",
   "metadata": {},
   "outputs": [
    {
     "name": "stderr",
     "output_type": "stream",
     "text": [
      "100%|██████████| 1388/1388 [00:40<00:00, 34.27it/s]\n"
     ]
    },
    {
     "ename": "ValueError",
     "evalue": "setting an array element with a sequence. The requested array has an inhomogeneous shape after 1 dimensions. The detected shape was (1388,) + inhomogeneous part.",
     "output_type": "error",
     "traceback": [
      "\u001b[0;31m---------------------------------------------------------------------------\u001b[0m",
      "\u001b[0;31mValueError\u001b[0m                                Traceback (most recent call last)",
      "Cell \u001b[0;32mIn[44], line 8\u001b[0m\n\u001b[1;32m      6\u001b[0m \u001b[38;5;28;01mfor\u001b[39;00m p, _ \u001b[38;5;129;01min\u001b[39;00m tqdm(d): \n\u001b[1;32m      7\u001b[0m     certainty\u001b[38;5;241m.\u001b[39mappend(get_certainty(p)) \n\u001b[0;32m----> 8\u001b[0m certainty\u001b[38;5;241m=\u001b[39m \u001b[43mnp\u001b[49m\u001b[38;5;241;43m.\u001b[39;49m\u001b[43marray\u001b[49m\u001b[43m(\u001b[49m\u001b[43mcertainty\u001b[49m\u001b[43m)\u001b[49m\n\u001b[1;32m      9\u001b[0m \u001b[38;5;28mprint\u001b[39m(certainty\u001b[38;5;241m.\u001b[39mmean(), certainty\u001b[38;5;241m.\u001b[39mstd())\n",
      "\u001b[0;31mValueError\u001b[0m: setting an array element with a sequence. The requested array has an inhomogeneous shape after 1 dimensions. The detected shape was (1388,) + inhomogeneous part."
     ]
    }
   ],
   "source": [
    "def get_certainty(preds):\n",
    "    preds = F.softmax(preds.squeeze(0).cpu(), dim=1)\n",
    "    return torch.tensor([torch.sum(p * torch.log(p / torch.full_like(p, 0.5))) for p in preds])\n",
    "\n",
    "certainty = []\n",
    "for p, _ in tqdm(d): \n",
    "    certainty.append(get_certainty(p)) \n",
    "certainty= np.array(certainty)\n",
    "print(certainty.mean(), certainty.std())"
   ]
  },
  {
   "cell_type": "code",
   "execution_count": null,
   "id": "3054f7f9",
   "metadata": {},
   "outputs": [],
   "source": [
    "certainty = [c.mean() for c in certainty]"
   ]
  },
  {
   "cell_type": "code",
   "execution_count": null,
   "id": "0dcdda1f",
   "metadata": {},
   "outputs": [],
   "source": [
    "certainty = np.array(certainty)"
   ]
  },
  {
   "cell_type": "code",
   "execution_count": null,
   "id": "75972e05",
   "metadata": {},
   "outputs": [
    {
     "data": {
      "image/png": "[encoded data removed]",
      "text/plain": [
       "<Figure size 640x480 with 1 Axes>"
      ]
     },
     "metadata": {},
     "output_type": "display_data"
    }
   ],
   "source": [
    "plt.hist(certainty)\n",
    "plt.show()"
   ]
  },
  {
   "cell_type": "code",
   "execution_count": null,
   "id": "c3e790b6",
   "metadata": {},
   "outputs": [],
   "source": []
  }
 ],
 "metadata": {
  "kernelspec": {
   "display_name": "malbert-test",
   "language": "python",
   "name": "python3"
  },
  "language_info": {
   "codemirror_mode": {
    "name": "ipython",
    "version": 3
   },
   "file_extension": ".py",
   "mimetype": "text/x-python",
   "name": "python",
   "nbconvert_exporter": "python",
   "pygments_lexer": "ipython3",
   "version": "3.10.17"
  }
 },
 "nbformat": 4,
 "nbformat_minor": 5
}
