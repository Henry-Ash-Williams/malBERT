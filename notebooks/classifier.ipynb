{
 "cells": [
  {
   "cell_type": "code",
   "execution_count": null,
   "id": "bc5cbbb2",
   "metadata": {},
   "outputs": [],
   "source": [
    "import datasets \n",
    "from transformers import PreTrainedTokenizerFast\n",
    "from transformers import Trainer, TrainingArguments\n",
    "from transformers import RobertaForSequenceClassification\n",
    "from sklearn.metrics import accuracy_score, precision_score, recall_score, f1_score\n",
    "\n",
    "import os \n",
    "import warnings\n",
    "from collections import defaultdict\n",
    "\n",
    "warnings.filterwarnings(\"ignore\")\n",
    "\n",
    "MAX_LENGTH = 64"
   ]
  },
  {
   "cell_type": "code",
   "execution_count": null,
   "id": "7f644e18",
   "metadata": {},
   "outputs": [],
   "source": [
    "def handle_sample(sample):\n",
    "    texts = sample['text']\n",
    "    labels = sample['label']\n",
    "    \n",
    "    flattened = defaultdict(list)\n",
    "\n",
    "    for text, label in zip(texts, labels):\n",
    "        tokenized = tokenizer(\n",
    "            text,\n",
    "            padding='max_length',\n",
    "            max_length=MAX_LENGTH,\n",
    "            return_overflowing_tokens=True,\n",
    "            truncation=True,\n",
    "            return_special_tokens_mask=True,\n",
    "        )\n",
    "\n",
    "        for i in range(len(tokenized['input_ids'])):\n",
    "            for k in tokenized:\n",
    "                flattened[k].append(tokenized[k][i])\n",
    "            flattened['label'].append(label)\n",
    "\n",
    "    return dict(flattened)\n",
    "\n",
    "tokenizer = PreTrainedTokenizerFast.from_pretrained(\"../MalBERTa\")\n",
    "dataset = datasets.load_from_disk(\"../data/raw\")\n",
    "dataset['test'] = dataset['test'].shuffle().select(range(int(len(dataset['test']) * 0.1)))\n",
    "dataset['train'] = dataset['train'].shuffle().select(range(int(len(dataset['train']) * 0.1)))\n",
    "processed_dataset = dataset.map(\n",
    "    handle_sample,\n",
    "    remove_columns=dataset['test'].column_names,\n",
    "    batch_size=64,\n",
    "    batched=True,\n",
    "    num_proc=8,\n",
    ")\n",
    "del dataset\n",
    "processed_dataset"
   ]
  },
  {
   "cell_type": "code",
   "execution_count": null,
   "id": "15bcda2d",
   "metadata": {},
   "outputs": [],
   "source": [
    "from transformers import RobertaConfig \n",
    "\n",
    "def compute_metrics(eval_pred):\n",
    "    logits, labels = eval_pred\n",
    "    predictions = logits.argmax(axis=-1)\n",
    "    return {\n",
    "        \"accuracy\": accuracy_score(labels, predictions),\n",
    "        \"precision\": precision_score(labels, predictions, average=\"weighted\", zero_division=0),\n",
    "        \"recall\": recall_score(labels, predictions, average=\"weighted\", zero_division=0),\n",
    "        \"f1\": f1_score(labels, predictions, average=\"weighted\", zero_division=0),\n",
    "    }\n",
    "\n",
    "model = RobertaForSequenceClassification(\n",
    "    config=RobertaConfig(\n",
    "        attention_probs_dropout_prob=0.001, \n",
    "        bos_token_id=0, \n",
    "        eos_token_id=2, \n",
    "        hidden_act='gelu_new',\n",
    "        hidden_dropout_prob=0.01, \n",
    "        hidden_size=512, \n",
    "        initializer_range=0.02, \n",
    "        intermediate_size=2048, \n",
    "        layer_norm_eps=0.01, \n",
    "        max_position_embeddings=MAX_LENGTH + 2, \n",
    "        num_attention_heads=4, \n",
    "        num_hidden_layers=7, \n",
    "        pad_token_id=1, \n",
    "    )\n",
    ")\n",
    "\n",
    "train_args = TrainingArguments(\n",
    "    output_dir=\"./MalBERTa-classifier\",\n",
    "    overwrite_output_dir=True,\n",
    "    num_train_epochs=1,\n",
    "    per_device_train_batch_size=256, \n",
    "    per_device_eval_batch_size=512, \n",
    "    save_strategy=\"no\",\n",
    "    eval_strategy=\"epoch\",\n",
    "    logging_steps=1,\n",
    "    logging_strategy=\"step\",\n",
    "    report_to=\"wandb\",\n",
    ")\n",
    "\n",
    "trainer = Trainer(\n",
    "    model=model,\n",
    "    args=train_args, \n",
    "    processing_class=tokenizer,\n",
    "    train_dataset=processed_dataset['train'],\n",
    "    eval_dataset=processed_dataset['test'],\n",
    "    compute_metrics=compute_metrics,\n",
    ")\n",
    "\n",
    "trainer.train()"
   ]
  },
  {
   "cell_type": "code",
   "execution_count": null,
   "id": "e03d443e",
   "metadata": {},
   "outputs": [],
   "source": [
    "try: \n",
    "    trainer.save()\n",
    "except: \n",
    "    pass "
   ]
  },
  {
   "cell_type": "code",
   "execution_count": null,
   "id": "ba1afba6",
   "metadata": {},
   "outputs": [],
   "source": [
    "model.save_pretrained('../MalBERTa-classifier')"
   ]
  },
  {
   "cell_type": "code",
   "execution_count": null,
   "id": "32605a98",
   "metadata": {},
   "outputs": [],
   "source": [
    "from transformers import RobertaForSequenceClassification\n",
    "\n",
    "RobertaForSequenceClassification.from_pretrained(\"./MalBERTa-classifier\")"
   ]
  }
 ],
 "metadata": {
  "kernelspec": {
   "display_name": ".venv",
   "language": "python",
   "name": "python3"
  },
  "language_info": {
   "codemirror_mode": {
    "name": "ipython",
    "version": 3
   },
   "file_extension": ".py",
   "mimetype": "text/x-python",
   "name": "python",
   "nbconvert_exporter": "python",
   "pygments_lexer": "ipython3",
   "version": "3.10.17"
  }
 },
 "nbformat": 4,
 "nbformat_minor": 5
}
