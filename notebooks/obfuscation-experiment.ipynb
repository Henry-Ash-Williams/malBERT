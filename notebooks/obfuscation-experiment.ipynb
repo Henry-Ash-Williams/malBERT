{
 "cells": [
  {
   "cell_type": "code",
   "execution_count": 1,
   "id": "802676ea",
   "metadata": {},
   "outputs": [
    {
     "name": "stderr",
     "output_type": "stream",
     "text": [
      "/Users/henrywilliams/Documents/programming/python/ai/malbert-test/.venv/lib/python3.10/site-packages/tqdm/auto.py:21: TqdmWarning: IProgress not found. Please update jupyter and ipywidgets. See https://ipywidgets.readthedocs.io/en/stable/user_install.html\n",
      "  from .autonotebook import tqdm as notebook_tqdm\n"
     ]
    }
   ],
   "source": [
    "import torch\n",
    "import wandb \n",
    "import r2pipe \n",
    "import numpy as np \n",
    "from tqdm import trange, tqdm\n",
    "import torch.nn.functional as F\n",
    "from sklearn.metrics import classification_report\n",
    "from transformers import RobertaForSequenceClassification, PreTrainedTokenizerFast\n",
    "\n",
    "import os\n",
    "import random\n",
    "import tempfile\n",
    "from os import PathLike\n",
    "\n",
    "device = torch.device('mps')\n",
    "\n",
    "os.environ['TOKENIZERS_PARALLELISM'] = 'false'\n",
    "api = wandb.Api() \n",
    "runs = {\n",
    "    'frozen_pretrained': \"t4o7wvla\",\n",
    "    'pretrained': \"e1tosi4k\",\n",
    "    'base': \"e96b8h5a\"\n",
    "}\n",
    "\n",
    "MAL_PATH = \"/Volumes/malware-dataset/unobfuscated-exes/\"\n",
    "BEN_PATH = \"/Volumes/malware-dataset/benign_program_dataset_WinXP_SP3/benign_programs_WinXP_SP3\"\n",
    "tokenizer = PreTrainedTokenizerFast.from_pretrained(\"/Users/henrywilliams/Documents/programming/python/ai/malbert-test/MalBERTa\")"
   ]
  },
  {
   "cell_type": "code",
   "execution_count": 2,
   "id": "f33b1628",
   "metadata": {},
   "outputs": [
    {
     "name": "stderr",
     "output_type": "stream",
     "text": [
      "\u001b[34m\u001b[1mwandb\u001b[0m: Using wandb-core as the SDK backend.  Please refer to https://wandb.me/wandb-core for more information.\n",
      "\u001b[34m\u001b[1mwandb\u001b[0m: Downloading large artifact model-e96b8h5a:v1, 87.83MB. 7 files... \n",
      "\u001b[34m\u001b[1mwandb\u001b[0m:   7 of 7 files downloaded.  \n",
      "Done. 0:0:0.6\n"
     ]
    }
   ],
   "source": [
    "def get_model(id):\n",
    "    with tempfile.TemporaryDirectory() as tdir: \n",
    "        artifact = api.artifact(f'henry-williams/opcode-malberta/model-{id}:v1', type='model')\n",
    "        base_path = artifact.download(root=tdir)\n",
    "\n",
    "        return RobertaForSequenceClassification.from_pretrained(base_path)\n",
    "\n",
    "model = get_model(runs['base']).to(device)"
   ]
  },
  {
   "cell_type": "code",
   "execution_count": 3,
   "id": "a0d65fd2",
   "metadata": {},
   "outputs": [],
   "source": [
    "def get_disassm(path: PathLike):\n",
    "    r2 = r2pipe.open(path, ['-12'])\n",
    "    r2.cmd(\"aaa\")\n",
    "\n",
    "    info = r2.cmdj(\"ij\")\n",
    "\n",
    "    if info[\"bin\"][\"arch\"] != \"x86\":\n",
    "        return []\n",
    "\n",
    "    section_info = r2.cmdj(\"iSj\")\n",
    "    executable_sections = [\n",
    "        section for section in section_info if \"x\" in section.get(\"perm\", \"\")\n",
    "    ]\n",
    "\n",
    "    full_disassembly = []\n",
    "\n",
    "    for section in executable_sections:\n",
    "        start = section[\"vaddr\"]\n",
    "        size = section[\"vsize\"]\n",
    "\n",
    "        disassembly = r2.cmdj(f\"pdaj {size} @ {start}\")\n",
    "\n",
    "        valid = [instr for instr in disassembly if set(instr[\"bytes\"]) != {\"0\"}]\n",
    "        full_disassembly.extend(valid)\n",
    "\n",
    "    return full_disassembly\n"
   ]
  },
  {
   "cell_type": "code",
   "execution_count": 4,
   "id": "b4795edb",
   "metadata": {},
   "outputs": [],
   "source": [
    "def make_opcode_sequences(instrs):\n",
    "    valid_instrs = [\n",
    "        instruction[\"inst\"]\n",
    "        for instruction in instrs\n",
    "        if instruction[\"inst\"] != \"invalid\"\n",
    "    ]\n",
    "\n",
    "    return ' '.join([instr.split(' ')[0] for instr in valid_instrs])"
   ]
  },
  {
   "cell_type": "code",
   "execution_count": 5,
   "id": "8b30f42a",
   "metadata": {},
   "outputs": [],
   "source": [
    "def tokenize(sample, model):\n",
    "    seq_length = model.config.max_position_embeddings\n",
    "\n",
    "    input = tokenizer(\n",
    "        sample,\n",
    "        padding='max_length',\n",
    "        max_length=seq_length - 2,\n",
    "        return_overflowing_tokens=True,\n",
    "        truncation=True,\n",
    "        return_special_tokens_mask=True,\n",
    "        return_tensors='pt'\n",
    "    )\n",
    "\n",
    "    return input"
   ]
  },
  {
   "cell_type": "code",
   "execution_count": 7,
   "id": "d23b5515",
   "metadata": {},
   "outputs": [],
   "source": [
    "def pipeline(model, path: os.PathLike, batch_size=64):\n",
    "    if not os.path.exists(path):\n",
    "        raise Exception(f\"Could not find specified file at {path}\")\n",
    "    disassembly = get_disassm(path)\n",
    "    opcodes = make_opcode_sequences(disassembly)\n",
    "    input = tokenize(opcodes, model)\n",
    "\n",
    "    model.eval()\n",
    "\n",
    "    logits = []\n",
    "    input_ids = input['input_ids'].split(batch_size)\n",
    "    attention_mask = input['attention_mask'].split(batch_size)\n",
    "    token_type_ids = input['token_type_ids'].split(batch_size)\n",
    "    torch.mps.empty_cache()\n",
    "    for ids, attn_mask, tok_ty_ids in zip(input_ids, attention_mask, token_type_ids):\n",
    "        ids = ids.to(device)\n",
    "        attn_mask = attn_mask.to(device)\n",
    "        tok_ty_ids = tok_ty_ids.to(device)\n",
    "\n",
    "        with torch.no_grad():\n",
    "            logits.append(model(\n",
    "                input_ids=ids,\n",
    "                attention_mask=attn_mask,\n",
    "                token_type_ids=tok_ty_ids\n",
    "            ))\n",
    "    \n",
    "    logits = torch.vstack([logit.logits for logit in logits])\n",
    "    return F.softmax(logits.mean(dim=0), dim=0)\n",
    "\n",
    "# pipeline(model, os.path.join(MAL_PATH, '85.exe'))"
   ]
  },
  {
   "cell_type": "code",
   "execution_count": 8,
   "id": "57f2b394",
   "metadata": {},
   "outputs": [],
   "source": [
    "ben_files = [os.path.join(BEN_PATH, file) for file in os.listdir(BEN_PATH) if file.endswith('.exe') and not file.startswith('._')]\n",
    "mal_files = [os.path.join(MAL_PATH, file) for file in os.listdir(MAL_PATH) if file.endswith('.exe') and not file.startswith('._')]\n",
    "random.shuffle(ben_files)\n",
    "ben_files = ben_files[:len(mal_files)]\n",
    "\n",
    "files = mal_files + ben_files \n",
    "labels = [1] * len(mal_files) + [0] * len(ben_files)"
   ]
  },
  {
   "cell_type": "code",
   "execution_count": 11,
   "id": "62e0d888",
   "metadata": {},
   "outputs": [],
   "source": [
    "import json \n",
    "\n",
    "dataset = {f: l for f, l in zip(files, labels)}\n",
    "with open('obfuscation-experiment-files.json', 'w') as file: \n",
    "    json.dump(dataset, file)"
   ]
  },
  {
   "cell_type": "code",
   "execution_count": 144,
   "id": "a92230f4",
   "metadata": {},
   "outputs": [],
   "source": [
    "import subprocess\n",
    "\n",
    "def experiment_step(model, file, p=1.0, batch_size=64):\n",
    "    ''' \n",
    "    p is the likelihood of the file being obfuscated\n",
    "    '''\n",
    "    with tempfile.TemporaryDirectory() as tdir: \n",
    "        if random.random() < p: \n",
    "            obfuscated_path = os.path.join(tdir, file.split('/')[-1])\n",
    "            subprocess.run(['upx', '-o', obfuscated_path, file], stdout=subprocess.DEVNULL)\n",
    "            return pipeline(model, obfuscated_path, batch_size=batch_size)\n",
    "        else: \n",
    "            return pipeline(model, file, batch_size=batch_size)\n",
    "\n",
    "# experiment_step(model, ben_files[0])"
   ]
  },
  {
   "cell_type": "code",
   "execution_count": 145,
   "id": "3e9c4148",
   "metadata": {},
   "outputs": [],
   "source": [
    "def run_experiment(files, labels, model, p=0.0, batch_size=256):\n",
    "    predicted = []\n",
    "    actual = []\n",
    "\n",
    "    for file, label in tqdm(zip(files, labels), total=len(files), leave=False, desc=f'p = {p:.2}'): \n",
    "\n",
    "        try: \n",
    "            logits = experiment_step(model, file, p=p, batch_size=batch_size)\n",
    "        except: \n",
    "            continue \n",
    "\n",
    "        predicted.append(logits.argmax().item())\n",
    "        actual.append(label)\n",
    "\n",
    "    return classification_report(actual, predicted, output_dict=True)"
   ]
  },
  {
   "cell_type": "code",
   "execution_count": 146,
   "id": "c657cb3a",
   "metadata": {},
   "outputs": [
    {
     "name": "stderr",
     "output_type": "stream",
     "text": [
      "p = 0.053:  18%|█▊        | 21/120 [01:20<07:09,  4.34s/it]upx: /Volumes/malware-dataset/unobfuscated-exes/HappyVirus_V_Edition.exe: CantPackException: .NET files are not yet supported\n",
      "p = 0.053:  30%|███       | 36/120 [03:24<04:35,  3.28s/it]upx: /Volumes/malware-dataset/unobfuscated-exes/CryptoLocker_SI.exe: CantPackException: .NET files are not yet supported\n",
      "p = 0.053:  33%|███▎      | 40/120 [03:45<08:25,  6.32s/it]upx: /Volumes/malware-dataset/unobfuscated-exes/zombie64.exe: CantPackException: .NET files are not yet supported\n",
      "                                                            \r"
     ]
    },
    {
     "ename": "KeyboardInterrupt",
     "evalue": "",
     "output_type": "error",
     "traceback": [
      "\u001b[0;31m---------------------------------------------------------------------------\u001b[0m",
      "\u001b[0;31mKeyboardInterrupt\u001b[0m                         Traceback (most recent call last)",
      "Cell \u001b[0;32mIn[146], line 6\u001b[0m\n\u001b[1;32m      3\u001b[0m results \u001b[38;5;241m=\u001b[39m []\n\u001b[1;32m      5\u001b[0m \u001b[38;5;28;01mfor\u001b[39;00m p \u001b[38;5;129;01min\u001b[39;00m obfuscation_likelihood:\n\u001b[0;32m----> 6\u001b[0m     results\u001b[38;5;241m.\u001b[39mappend(\u001b[43mrun_experiment\u001b[49m\u001b[43m(\u001b[49m\u001b[43mfiles\u001b[49m\u001b[43m,\u001b[49m\u001b[43m \u001b[49m\u001b[43mlabels\u001b[49m\u001b[43m,\u001b[49m\u001b[43m \u001b[49m\u001b[43mmodel\u001b[49m\u001b[43m,\u001b[49m\u001b[43m \u001b[49m\u001b[43mp\u001b[49m\u001b[43m)\u001b[49m)\n",
      "Cell \u001b[0;32mIn[145], line 5\u001b[0m, in \u001b[0;36mrun_experiment\u001b[0;34m(files, labels, model, p, batch_size)\u001b[0m\n\u001b[1;32m      2\u001b[0m predicted \u001b[38;5;241m=\u001b[39m []\n\u001b[1;32m      3\u001b[0m actual \u001b[38;5;241m=\u001b[39m []\n\u001b[0;32m----> 5\u001b[0m \u001b[38;5;28;01mfor\u001b[39;00m file, label \u001b[38;5;129;01min\u001b[39;00m tqdm(\u001b[38;5;28mzip\u001b[39m(files, labels), total\u001b[38;5;241m=\u001b[39m\u001b[38;5;28mlen\u001b[39m(files), leave\u001b[38;5;241m=\u001b[39m\u001b[38;5;28;01mFalse\u001b[39;00m, desc\u001b[38;5;241m=\u001b[39m\u001b[38;5;124mf\u001b[39m\u001b[38;5;124m'\u001b[39m\u001b[38;5;124mp = \u001b[39m\u001b[38;5;132;01m{\u001b[39;00mp\u001b[38;5;132;01m:\u001b[39;00m\u001b[38;5;124m.2\u001b[39m\u001b[38;5;132;01m}\u001b[39;00m\u001b[38;5;124m'\u001b[39m): \n\u001b[1;32m      7\u001b[0m     \u001b[38;5;28;01mtry\u001b[39;00m: \n\u001b[1;32m      8\u001b[0m         logits \u001b[38;5;241m=\u001b[39m experiment_step(model, file, p\u001b[38;5;241m=\u001b[39mp, batch_size\u001b[38;5;241m=\u001b[39mbatch_size)\n",
      "File \u001b[0;32m~/Documents/programming/python/ai/malbert-test/.venv/lib/python3.10/site-packages/tqdm/std.py:1191\u001b[0m, in \u001b[0;36mtqdm.__iter__\u001b[0;34m(self)\u001b[0m\n\u001b[1;32m   1189\u001b[0m dt \u001b[38;5;241m=\u001b[39m cur_t \u001b[38;5;241m-\u001b[39m last_print_t\n\u001b[1;32m   1190\u001b[0m \u001b[38;5;28;01mif\u001b[39;00m dt \u001b[38;5;241m>\u001b[39m\u001b[38;5;241m=\u001b[39m mininterval \u001b[38;5;129;01mand\u001b[39;00m cur_t \u001b[38;5;241m>\u001b[39m\u001b[38;5;241m=\u001b[39m min_start_t:\n\u001b[0;32m-> 1191\u001b[0m     \u001b[38;5;28;43mself\u001b[39;49m\u001b[38;5;241;43m.\u001b[39;49m\u001b[43mupdate\u001b[49m\u001b[43m(\u001b[49m\u001b[43mn\u001b[49m\u001b[43m \u001b[49m\u001b[38;5;241;43m-\u001b[39;49m\u001b[43m \u001b[49m\u001b[43mlast_print_n\u001b[49m\u001b[43m)\u001b[49m\n\u001b[1;32m   1192\u001b[0m     last_print_n \u001b[38;5;241m=\u001b[39m \u001b[38;5;28mself\u001b[39m\u001b[38;5;241m.\u001b[39mlast_print_n\n\u001b[1;32m   1193\u001b[0m     last_print_t \u001b[38;5;241m=\u001b[39m \u001b[38;5;28mself\u001b[39m\u001b[38;5;241m.\u001b[39mlast_print_t\n",
      "File \u001b[0;32m~/Documents/programming/python/ai/malbert-test/.venv/lib/python3.10/site-packages/tqdm/std.py:1242\u001b[0m, in \u001b[0;36mtqdm.update\u001b[0;34m(self, n)\u001b[0m\n\u001b[1;32m   1240\u001b[0m     \u001b[38;5;28mself\u001b[39m\u001b[38;5;241m.\u001b[39m_ema_dn(dn)\n\u001b[1;32m   1241\u001b[0m     \u001b[38;5;28mself\u001b[39m\u001b[38;5;241m.\u001b[39m_ema_dt(dt)\n\u001b[0;32m-> 1242\u001b[0m \u001b[38;5;28;43mself\u001b[39;49m\u001b[38;5;241;43m.\u001b[39;49m\u001b[43mrefresh\u001b[49m\u001b[43m(\u001b[49m\u001b[43mlock_args\u001b[49m\u001b[38;5;241;43m=\u001b[39;49m\u001b[38;5;28;43mself\u001b[39;49m\u001b[38;5;241;43m.\u001b[39;49m\u001b[43mlock_args\u001b[49m\u001b[43m)\u001b[49m\n\u001b[1;32m   1243\u001b[0m \u001b[38;5;28;01mif\u001b[39;00m \u001b[38;5;28mself\u001b[39m\u001b[38;5;241m.\u001b[39mdynamic_miniters:\n\u001b[1;32m   1244\u001b[0m     \u001b[38;5;66;03m# If no `miniters` was specified, adjust automatically to the\u001b[39;00m\n\u001b[1;32m   1245\u001b[0m     \u001b[38;5;66;03m# maximum iteration rate seen so far between two prints.\u001b[39;00m\n\u001b[1;32m   1246\u001b[0m     \u001b[38;5;66;03m# e.g.: After running `tqdm.update(5)`, subsequent\u001b[39;00m\n\u001b[1;32m   1247\u001b[0m     \u001b[38;5;66;03m# calls to `tqdm.update()` will only cause an update after\u001b[39;00m\n\u001b[1;32m   1248\u001b[0m     \u001b[38;5;66;03m# at least 5 more iterations.\u001b[39;00m\n\u001b[1;32m   1249\u001b[0m     \u001b[38;5;28;01mif\u001b[39;00m \u001b[38;5;28mself\u001b[39m\u001b[38;5;241m.\u001b[39mmaxinterval \u001b[38;5;129;01mand\u001b[39;00m dt \u001b[38;5;241m>\u001b[39m\u001b[38;5;241m=\u001b[39m \u001b[38;5;28mself\u001b[39m\u001b[38;5;241m.\u001b[39mmaxinterval:\n",
      "File \u001b[0;32m~/Documents/programming/python/ai/malbert-test/.venv/lib/python3.10/site-packages/tqdm/std.py:1347\u001b[0m, in \u001b[0;36mtqdm.refresh\u001b[0;34m(self, nolock, lock_args)\u001b[0m\n\u001b[1;32m   1345\u001b[0m     \u001b[38;5;28;01melse\u001b[39;00m:\n\u001b[1;32m   1346\u001b[0m         \u001b[38;5;28mself\u001b[39m\u001b[38;5;241m.\u001b[39m_lock\u001b[38;5;241m.\u001b[39macquire()\n\u001b[0;32m-> 1347\u001b[0m \u001b[38;5;28;43mself\u001b[39;49m\u001b[38;5;241;43m.\u001b[39;49m\u001b[43mdisplay\u001b[49m\u001b[43m(\u001b[49m\u001b[43m)\u001b[49m\n\u001b[1;32m   1348\u001b[0m \u001b[38;5;28;01mif\u001b[39;00m \u001b[38;5;129;01mnot\u001b[39;00m nolock:\n\u001b[1;32m   1349\u001b[0m     \u001b[38;5;28mself\u001b[39m\u001b[38;5;241m.\u001b[39m_lock\u001b[38;5;241m.\u001b[39mrelease()\n",
      "File \u001b[0;32m~/Documents/programming/python/ai/malbert-test/.venv/lib/python3.10/site-packages/tqdm/std.py:1495\u001b[0m, in \u001b[0;36mtqdm.display\u001b[0;34m(self, msg, pos)\u001b[0m\n\u001b[1;32m   1493\u001b[0m \u001b[38;5;28;01mif\u001b[39;00m pos:\n\u001b[1;32m   1494\u001b[0m     \u001b[38;5;28mself\u001b[39m\u001b[38;5;241m.\u001b[39mmoveto(pos)\n\u001b[0;32m-> 1495\u001b[0m \u001b[38;5;28;43mself\u001b[39;49m\u001b[38;5;241;43m.\u001b[39;49m\u001b[43msp\u001b[49m\u001b[43m(\u001b[49m\u001b[38;5;28;43mself\u001b[39;49m\u001b[38;5;241;43m.\u001b[39;49m\u001b[38;5;21;43m__str__\u001b[39;49m\u001b[43m(\u001b[49m\u001b[43m)\u001b[49m\u001b[43m \u001b[49m\u001b[38;5;28;43;01mif\u001b[39;49;00m\u001b[43m \u001b[49m\u001b[43mmsg\u001b[49m\u001b[43m \u001b[49m\u001b[38;5;129;43;01mis\u001b[39;49;00m\u001b[43m \u001b[49m\u001b[38;5;28;43;01mNone\u001b[39;49;00m\u001b[43m \u001b[49m\u001b[38;5;28;43;01melse\u001b[39;49;00m\u001b[43m \u001b[49m\u001b[43mmsg\u001b[49m\u001b[43m)\u001b[49m\n\u001b[1;32m   1496\u001b[0m \u001b[38;5;28;01mif\u001b[39;00m pos:\n\u001b[1;32m   1497\u001b[0m     \u001b[38;5;28mself\u001b[39m\u001b[38;5;241m.\u001b[39mmoveto(\u001b[38;5;241m-\u001b[39mpos)\n",
      "File \u001b[0;32m~/Documents/programming/python/ai/malbert-test/.venv/lib/python3.10/site-packages/tqdm/std.py:459\u001b[0m, in \u001b[0;36mtqdm.status_printer.<locals>.print_status\u001b[0;34m(s)\u001b[0m\n\u001b[1;32m    457\u001b[0m \u001b[38;5;28;01mdef\u001b[39;00m\u001b[38;5;250m \u001b[39m\u001b[38;5;21mprint_status\u001b[39m(s):\n\u001b[1;32m    458\u001b[0m     len_s \u001b[38;5;241m=\u001b[39m disp_len(s)\n\u001b[0;32m--> 459\u001b[0m     \u001b[43mfp_write\u001b[49m\u001b[43m(\u001b[49m\u001b[38;5;124;43m'\u001b[39;49m\u001b[38;5;130;43;01m\\r\u001b[39;49;00m\u001b[38;5;124;43m'\u001b[39;49m\u001b[43m \u001b[49m\u001b[38;5;241;43m+\u001b[39;49m\u001b[43m \u001b[49m\u001b[43ms\u001b[49m\u001b[43m \u001b[49m\u001b[38;5;241;43m+\u001b[39;49m\u001b[43m \u001b[49m\u001b[43m(\u001b[49m\u001b[38;5;124;43m'\u001b[39;49m\u001b[38;5;124;43m \u001b[39;49m\u001b[38;5;124;43m'\u001b[39;49m\u001b[43m \u001b[49m\u001b[38;5;241;43m*\u001b[39;49m\u001b[43m \u001b[49m\u001b[38;5;28;43mmax\u001b[39;49m\u001b[43m(\u001b[49m\u001b[43mlast_len\u001b[49m\u001b[43m[\u001b[49m\u001b[38;5;241;43m0\u001b[39;49m\u001b[43m]\u001b[49m\u001b[43m \u001b[49m\u001b[38;5;241;43m-\u001b[39;49m\u001b[43m \u001b[49m\u001b[43mlen_s\u001b[49m\u001b[43m,\u001b[49m\u001b[43m \u001b[49m\u001b[38;5;241;43m0\u001b[39;49m\u001b[43m)\u001b[49m\u001b[43m)\u001b[49m\u001b[43m)\u001b[49m\n\u001b[1;32m    460\u001b[0m     last_len[\u001b[38;5;241m0\u001b[39m] \u001b[38;5;241m=\u001b[39m len_s\n",
      "File \u001b[0;32m~/Documents/programming/python/ai/malbert-test/.venv/lib/python3.10/site-packages/tqdm/std.py:453\u001b[0m, in \u001b[0;36mtqdm.status_printer.<locals>.fp_write\u001b[0;34m(s)\u001b[0m\n\u001b[1;32m    451\u001b[0m \u001b[38;5;28;01mdef\u001b[39;00m\u001b[38;5;250m \u001b[39m\u001b[38;5;21mfp_write\u001b[39m(s):\n\u001b[1;32m    452\u001b[0m     fp\u001b[38;5;241m.\u001b[39mwrite(\u001b[38;5;28mstr\u001b[39m(s))\n\u001b[0;32m--> 453\u001b[0m     \u001b[43mfp_flush\u001b[49m\u001b[43m(\u001b[49m\u001b[43m)\u001b[49m\n",
      "File \u001b[0;32m~/Documents/programming/python/ai/malbert-test/.venv/lib/python3.10/site-packages/tqdm/utils.py:196\u001b[0m, in \u001b[0;36mDisableOnWriteError.disable_on_exception.<locals>.inner\u001b[0;34m(*args, **kwargs)\u001b[0m\n\u001b[1;32m    194\u001b[0m \u001b[38;5;28;01mdef\u001b[39;00m\u001b[38;5;250m \u001b[39m\u001b[38;5;21minner\u001b[39m(\u001b[38;5;241m*\u001b[39margs, \u001b[38;5;241m*\u001b[39m\u001b[38;5;241m*\u001b[39mkwargs):\n\u001b[1;32m    195\u001b[0m     \u001b[38;5;28;01mtry\u001b[39;00m:\n\u001b[0;32m--> 196\u001b[0m         \u001b[38;5;28;01mreturn\u001b[39;00m \u001b[43mfunc\u001b[49m\u001b[43m(\u001b[49m\u001b[38;5;241;43m*\u001b[39;49m\u001b[43margs\u001b[49m\u001b[43m,\u001b[49m\u001b[43m \u001b[49m\u001b[38;5;241;43m*\u001b[39;49m\u001b[38;5;241;43m*\u001b[39;49m\u001b[43mkwargs\u001b[49m\u001b[43m)\u001b[49m\n\u001b[1;32m    197\u001b[0m     \u001b[38;5;28;01mexcept\u001b[39;00m \u001b[38;5;167;01mOSError\u001b[39;00m \u001b[38;5;28;01mas\u001b[39;00m e:\n\u001b[1;32m    198\u001b[0m         \u001b[38;5;28;01mif\u001b[39;00m e\u001b[38;5;241m.\u001b[39merrno \u001b[38;5;241m!=\u001b[39m \u001b[38;5;241m5\u001b[39m:\n",
      "File \u001b[0;32m~/Documents/programming/python/ai/malbert-test/.venv/lib/python3.10/site-packages/ipykernel/iostream.py:609\u001b[0m, in \u001b[0;36mOutStream.flush\u001b[0;34m(self)\u001b[0m\n\u001b[1;32m    607\u001b[0m     \u001b[38;5;28mself\u001b[39m\u001b[38;5;241m.\u001b[39mpub_thread\u001b[38;5;241m.\u001b[39mschedule(evt\u001b[38;5;241m.\u001b[39mset)\n\u001b[1;32m    608\u001b[0m     \u001b[38;5;66;03m# and give a timeout to avoid\u001b[39;00m\n\u001b[0;32m--> 609\u001b[0m     \u001b[38;5;28;01mif\u001b[39;00m \u001b[38;5;129;01mnot\u001b[39;00m \u001b[43mevt\u001b[49m\u001b[38;5;241;43m.\u001b[39;49m\u001b[43mwait\u001b[49m\u001b[43m(\u001b[49m\u001b[38;5;28;43mself\u001b[39;49m\u001b[38;5;241;43m.\u001b[39;49m\u001b[43mflush_timeout\u001b[49m\u001b[43m)\u001b[49m:\n\u001b[1;32m    610\u001b[0m         \u001b[38;5;66;03m# write directly to __stderr__ instead of warning because\u001b[39;00m\n\u001b[1;32m    611\u001b[0m         \u001b[38;5;66;03m# if this is happening sys.stderr may be the problem.\u001b[39;00m\n\u001b[1;32m    612\u001b[0m         \u001b[38;5;28mprint\u001b[39m(\u001b[38;5;124m\"\u001b[39m\u001b[38;5;124mIOStream.flush timed out\u001b[39m\u001b[38;5;124m\"\u001b[39m, file\u001b[38;5;241m=\u001b[39msys\u001b[38;5;241m.\u001b[39m__stderr__)\n\u001b[1;32m    613\u001b[0m \u001b[38;5;28;01melse\u001b[39;00m:\n",
      "File \u001b[0;32m/opt/homebrew/Cellar/python@3.10/3.10.17/Frameworks/Python.framework/Versions/3.10/lib/python3.10/threading.py:607\u001b[0m, in \u001b[0;36mEvent.wait\u001b[0;34m(self, timeout)\u001b[0m\n\u001b[1;32m    605\u001b[0m signaled \u001b[38;5;241m=\u001b[39m \u001b[38;5;28mself\u001b[39m\u001b[38;5;241m.\u001b[39m_flag\n\u001b[1;32m    606\u001b[0m \u001b[38;5;28;01mif\u001b[39;00m \u001b[38;5;129;01mnot\u001b[39;00m signaled:\n\u001b[0;32m--> 607\u001b[0m     signaled \u001b[38;5;241m=\u001b[39m \u001b[38;5;28;43mself\u001b[39;49m\u001b[38;5;241;43m.\u001b[39;49m\u001b[43m_cond\u001b[49m\u001b[38;5;241;43m.\u001b[39;49m\u001b[43mwait\u001b[49m\u001b[43m(\u001b[49m\u001b[43mtimeout\u001b[49m\u001b[43m)\u001b[49m\n\u001b[1;32m    608\u001b[0m \u001b[38;5;28;01mreturn\u001b[39;00m signaled\n",
      "File \u001b[0;32m/opt/homebrew/Cellar/python@3.10/3.10.17/Frameworks/Python.framework/Versions/3.10/lib/python3.10/threading.py:324\u001b[0m, in \u001b[0;36mCondition.wait\u001b[0;34m(self, timeout)\u001b[0m\n\u001b[1;32m    322\u001b[0m \u001b[38;5;28;01melse\u001b[39;00m:\n\u001b[1;32m    323\u001b[0m     \u001b[38;5;28;01mif\u001b[39;00m timeout \u001b[38;5;241m>\u001b[39m \u001b[38;5;241m0\u001b[39m:\n\u001b[0;32m--> 324\u001b[0m         gotit \u001b[38;5;241m=\u001b[39m \u001b[43mwaiter\u001b[49m\u001b[38;5;241;43m.\u001b[39;49m\u001b[43macquire\u001b[49m\u001b[43m(\u001b[49m\u001b[38;5;28;43;01mTrue\u001b[39;49;00m\u001b[43m,\u001b[49m\u001b[43m \u001b[49m\u001b[43mtimeout\u001b[49m\u001b[43m)\u001b[49m\n\u001b[1;32m    325\u001b[0m     \u001b[38;5;28;01melse\u001b[39;00m:\n\u001b[1;32m    326\u001b[0m         gotit \u001b[38;5;241m=\u001b[39m waiter\u001b[38;5;241m.\u001b[39macquire(\u001b[38;5;28;01mFalse\u001b[39;00m)\n",
      "\u001b[0;31mKeyboardInterrupt\u001b[0m: "
     ]
    }
   ],
   "source": [
    "obfuscation_likelihood = np.linspace(0, 1, 20)\n",
    "\n",
    "results = []\n",
    "\n",
    "for p in obfuscation_likelihood:\n",
    "    results.append(run_experiment(files, labels, model, p))"
   ]
  },
  {
   "cell_type": "code",
   "execution_count": 147,
   "id": "53e80e5e",
   "metadata": {},
   "outputs": [
    {
     "data": {
      "text/plain": [
       "[{'0': {'precision': 0.0, 'recall': 0.0, 'f1-score': 0.0, 'support': 60.0},\n",
       "  '1': {'precision': 0.3103448275862069,\n",
       "   'recall': 0.45,\n",
       "   'f1-score': 0.3673469387755102,\n",
       "   'support': 60.0},\n",
       "  'accuracy': 0.225,\n",
       "  'macro avg': {'precision': 0.15517241379310345,\n",
       "   'recall': 0.225,\n",
       "   'f1-score': 0.1836734693877551,\n",
       "   'support': 120.0},\n",
       "  'weighted avg': {'precision': 0.15517241379310345,\n",
       "   'recall': 0.225,\n",
       "   'f1-score': 0.1836734693877551,\n",
       "   'support': 120.0}},\n",
       " {'0': {'precision': 0.0, 'recall': 0.0, 'f1-score': 0.0, 'support': 60.0},\n",
       "  '1': {'precision': 0.29411764705882354,\n",
       "   'recall': 0.46296296296296297,\n",
       "   'f1-score': 0.3597122302158273,\n",
       "   'support': 54.0},\n",
       "  'accuracy': 0.21929824561403508,\n",
       "  'macro avg': {'precision': 0.14705882352941177,\n",
       "   'recall': 0.23148148148148148,\n",
       "   'f1-score': 0.17985611510791366,\n",
       "   'support': 114.0},\n",
       "  'weighted avg': {'precision': 0.1393188854489164,\n",
       "   'recall': 0.21929824561403508,\n",
       "   'f1-score': 0.17039000378644453,\n",
       "   'support': 114.0}}]"
      ]
     },
     "execution_count": 147,
     "metadata": {},
     "output_type": "execute_result"
    }
   ],
   "source": [
    "results"
   ]
  },
  {
   "cell_type": "code",
   "execution_count": 156,
   "id": "fabe4a67",
   "metadata": {},
   "outputs": [
    {
     "data": {
      "text/plain": [
       "tensor([0.9348, 0.0652], device='mps:0')"
      ]
     },
     "execution_count": 156,
     "metadata": {},
     "output_type": "execute_result"
    }
   ],
   "source": [
    "experiment_step(model, os.path.join(MAL_PATH, 'davidTrojan.exe'), p=1.)"
   ]
  }
 ],
 "metadata": {
  "kernelspec": {
   "display_name": "malbert-test",
   "language": "python",
   "name": "python3"
  },
  "language_info": {
   "codemirror_mode": {
    "name": "ipython",
    "version": 3
   },
   "file_extension": ".py",
   "mimetype": "text/x-python",
   "name": "python",
   "nbconvert_exporter": "python",
   "pygments_lexer": "ipython3",
   "version": "3.10.17"
  }
 },
 "nbformat": 4,
 "nbformat_minor": 5
}
