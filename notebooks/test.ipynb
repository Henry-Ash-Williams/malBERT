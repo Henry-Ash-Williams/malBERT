{
 "cells": [
  {
   "cell_type": "code",
   "execution_count": 1,
   "id": "e7c8c4f3",
   "metadata": {},
   "outputs": [
    {
     "name": "stderr",
     "output_type": "stream",
     "text": [
      "/Users/henrywilliams/Documents/programming/python/ai/malbert-test/.venv/lib/python3.10/site-packages/tqdm/auto.py:21: TqdmWarning: IProgress not found. Please update jupyter and ipywidgets. See https://ipywidgets.readthedocs.io/en/stable/user_install.html\n",
      "  from .autonotebook import tqdm as notebook_tqdm\n",
      "Map (num_proc=8): 100%|██████████| 5552/5552 [04:44<00:00, 19.54 examples/s]\n",
      "Map (num_proc=8): 100%|██████████| 1388/1388 [01:17<00:00, 17.92 examples/s]\n"
     ]
    }
   ],
   "source": [
    "import datasets\n",
    "from collections import defaultdict\n",
    "from transformers import PreTrainedTokenizerFast\n",
    "\n",
    "dataset = datasets.load_from_disk(\"../data/raw\")\n",
    "tokenizer = PreTrainedTokenizerFast.from_pretrained(\"../MalBERTa\")\n",
    "\n",
    "\n",
    "def handle_sample(sample, **kwargs):\n",
    "    tokenizer = kwargs.get(\"tokenizer\")\n",
    "\n",
    "    if tokenizer is None:\n",
    "        raise Exception(\"Missing tokenizer\")\n",
    "\n",
    "    texts = sample[\"text\"]\n",
    "    labels = sample[\"label\"]\n",
    "\n",
    "    flattened = defaultdict(list)\n",
    "\n",
    "    for text, label in zip(texts, labels):\n",
    "        tokenized = tokenizer(\n",
    "            text,\n",
    "            padding=\"max_length\",\n",
    "            max_length=32,\n",
    "            return_overflowing_tokens=True,\n",
    "            truncation=True,\n",
    "        )\n",
    "\n",
    "        for i in range(len(tokenized[\"input_ids\"])):\n",
    "            for k in tokenized:\n",
    "                flattened[k].append(tokenized[k][i])\n",
    "            flattened[\"label\"].append(label)\n",
    "\n",
    "    return dict(flattened)\n",
    "\n",
    "\n",
    "processed_dataset = dataset.map(\n",
    "    handle_sample,\n",
    "    remove_columns=dataset[\"test\"].column_names,\n",
    "    batch_size=64,\n",
    "    batched=True,\n",
    "    num_proc=8,\n",
    "    fn_kwargs=dict(tokenizer=tokenizer),\n",
    ")"
   ]
  },
  {
   "cell_type": "code",
   "execution_count": 2,
   "id": "de18b43c",
   "metadata": {},
   "outputs": [
    {
     "name": "stderr",
     "output_type": "stream",
     "text": [
      "                                                               \r"
     ]
    },
    {
     "data": {
      "text/html": [
       "<pre style=\"white-space:pre;overflow-x:auto;line-height:normal;font-family:Menlo,'DejaVu Sans Mono',consolas,'Courier New',monospace\"><span style=\"color: #008080; text-decoration-color: #008080; font-weight: bold\">15987043</span> Unique sequences in train set = <span style=\"color: #008080; text-decoration-color: #008080; font-weight: bold\">81.20</span>%\n",
       "</pre>\n"
      ],
      "text/plain": [
       "\u001b[1;36m15987043\u001b[0m Unique sequences in train set = \u001b[1;36m81.20\u001b[0m%\n"
      ]
     },
     "metadata": {},
     "output_type": "display_data"
    },
    {
     "data": {
      "text/html": [
       "<pre style=\"white-space:pre;overflow-x:auto;line-height:normal;font-family:Menlo,'DejaVu Sans Mono',consolas,'Courier New',monospace\"><span style=\"color: #008080; text-decoration-color: #008080; font-weight: bold\">4436483</span> Unique sequences in test set = <span style=\"color: #008080; text-decoration-color: #008080; font-weight: bold\">90.79</span>%\n",
       "</pre>\n"
      ],
      "text/plain": [
       "\u001b[1;36m4436483\u001b[0m Unique sequences in test set = \u001b[1;36m90.79\u001b[0m%\n"
      ]
     },
     "metadata": {},
     "output_type": "display_data"
    }
   ],
   "source": [
    "from tqdm import tqdm\n",
    "\n",
    "l1 = tqdm(processed_dataset[\"train\"], leave=False)\n",
    "unique_train_seqs = set(tuple(sample[\"input_ids\"]) for sample in l1)\n",
    "l2 = tqdm(processed_dataset[\"test\"], leave=False)\n",
    "unique_test_seqs = set(tuple(sample[\"input_ids\"]) for sample in l2)\n",
    "\n",
    "print(\n",
    "    f\"{len(unique_train_seqs)} Unique sequences in train set = {(len(unique_train_seqs) / len(processed_dataset['train'])) * 100:.2f}%\"\n",
    ")\n",
    "print(\n",
    "    f\"{len(unique_test_seqs)} Unique sequences in test set = {(len(unique_test_seqs) / len(processed_dataset['test'])) * 100:.2f}%\"\n",
    ")\n"
   ]
  },
  {
   "cell_type": "code",
   "execution_count": 3,
   "id": "c407bf43",
   "metadata": {},
   "outputs": [
    {
     "data": {
      "text/plain": [
       "4436483"
      ]
     },
     "execution_count": 3,
     "metadata": {},
     "output_type": "execute_result"
    }
   ],
   "source": [
    "len(unique_test_seqs)"
   ]
  }
 ],
 "metadata": {
  "kernelspec": {
   "display_name": "malbert-test",
   "language": "python",
   "name": "python3"
  },
  "language_info": {
   "codemirror_mode": {
    "name": "ipython",
    "version": 3
   },
   "file_extension": ".py",
   "mimetype": "text/x-python",
   "name": "python",
   "nbconvert_exporter": "python",
   "pygments_lexer": "ipython3",
   "version": "3.10.0"
  }
 },
 "nbformat": 4,
 "nbformat_minor": 5
}
