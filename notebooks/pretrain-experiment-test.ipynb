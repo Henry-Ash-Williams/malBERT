{
 "cells": [
  {
   "cell_type": "code",
   "execution_count": null,
   "id": "d228e32d",
   "metadata": {},
   "outputs": [],
   "source": [
    "import pandas as pd \n",
    "import subprocess \n",
    "\n",
    "OUTPUT_DIR = \"../MalBERTA-pretrained-classifier\"\n",
    "TOKENIZER_DIR = \"../MalBERTa\"\n",
    "DATASET_DIR = \"../data/raw\"\n",
    "\n",
    "df = pd.read_csv('../malberta-runs.csv')\n",
    "\n",
    "# Remove failed and pretrained runs and sort by runtime\n",
    "df = df[(~df['Tags'].str.contains(\"pretrained\", regex=False, na=False, case=False)) & (df['State'] == \"finished\")]\n",
    "df = df.sort_values(\"Runtime\")\n",
    "df.head() "
   ]
  },
  {
   "cell_type": "code",
   "execution_count": null,
   "id": "28f42a0b",
   "metadata": {},
   "outputs": [],
   "source": [
    "def run_experiment(args):\n",
    "    cmd = [\n",
    "        # 'CUDA_VISIBLE_DEVICES=\"6,7\"',\n",
    "        'python',\n",
    "        '../src/classifier.py',\n",
    "        '--do_pretrain',\n",
    "        f'--max_length={args.max_length}',\n",
    "        f'--hidden_size_factor={args.hidden_size_factor}',\n",
    "        f'--num_hidden={args.num_hidden}',\n",
    "        f'--num_attention={args.num_attention}',\n",
    "        f'--intermediate_size_factor={args.intermediate_size_factor}',\n",
    "        f'--hidden_act={args.hidden_act}',\n",
    "        f'--hidden_dropout_prob={args.hidden_dropout_prob}',\n",
    "        f'--attention_dropout_prob={args.attention_dropout_prob}',\n",
    "        f'--layer_norm_eps={args.layer_norm_eps}',\n",
    "        f'--batch_size={args.batch_size}',\n",
    "        f'--notes=\"Pretrained {args.ID}\"',\n",
    "        f'--dataset_path={DATASET_DIR}',\n",
    "        f'--tokenizer_path={TOKENIZER_DIR}',\n",
    "        f'--output_path={OUTPUT_DIR}'\n",
    "    ]\n",
    "    subprocess.run(cmd)\n",
    "\n",
    "run_experiment(next(df.itertuples()))"
   ]
  }
 ],
 "metadata": {
  "kernelspec": {
   "display_name": "malbert-test",
   "language": "python",
   "name": "python3"
  },
  "language_info": {
   "codemirror_mode": {
    "name": "ipython",
    "version": 3
   },
   "file_extension": ".py",
   "mimetype": "text/x-python",
   "name": "python",
   "nbconvert_exporter": "python",
   "pygments_lexer": "ipython3",
   "version": "3.10.17"
  }
 },
 "nbformat": 4,
 "nbformat_minor": 5
}
